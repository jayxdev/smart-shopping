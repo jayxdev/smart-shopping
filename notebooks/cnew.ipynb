{
 "cells": [
  {
   "cell_type": "code",
   "execution_count": 59,
   "metadata": {},
   "outputs": [
    {
     "name": "stdout",
     "output_type": "stream",
     "text": [
      "<class 'pandas.core.frame.DataFrame'>\n",
      "RangeIndex: 10000 entries, 0 to 9999\n",
      "Data columns (total 11 columns):\n",
      " #   Column            Non-Null Count  Dtype  \n",
      "---  ------            --------------  -----  \n",
      " 0   Customer_ID       10000 non-null  object \n",
      " 1   Age               10000 non-null  int64  \n",
      " 2   Gender            10000 non-null  object \n",
      " 3   Location          10000 non-null  object \n",
      " 4   Browsing_History  10000 non-null  object \n",
      " 5   Purchase_History  10000 non-null  object \n",
      " 6   Customer_Segment  10000 non-null  object \n",
      " 7   Avg_Order_Value   10000 non-null  float64\n",
      " 8   Holiday           10000 non-null  object \n",
      " 9   Season            10000 non-null  object \n",
      " 10  Unnamed: 10       0 non-null      float64\n",
      "dtypes: float64(2), int64(1), object(8)\n",
      "memory usage: 859.5+ KB\n",
      "<class 'pandas.core.frame.DataFrame'>\n",
      "RangeIndex: 10000 entries, 0 to 9999\n",
      "Data columns (total 15 columns):\n",
      " #   Column                              Non-Null Count  Dtype  \n",
      "---  ------                              --------------  -----  \n",
      " 0   Product_ID                          10000 non-null  object \n",
      " 1   Category                            10000 non-null  object \n",
      " 2   Subcategory                         10000 non-null  object \n",
      " 3   Price                               10000 non-null  int64  \n",
      " 4   Brand                               10000 non-null  object \n",
      " 5   Average_Rating_of_Similar_Products  10000 non-null  float64\n",
      " 6   Product_Rating                      10000 non-null  float64\n",
      " 7   Customer_Review_Sentiment_Score     10000 non-null  float64\n",
      " 8   Holiday                             10000 non-null  object \n",
      " 9   Season                              10000 non-null  object \n",
      " 10  Geographical_Location               10000 non-null  object \n",
      " 11  Similar_Product_List                10000 non-null  object \n",
      " 12  Probability_of_Recommendation       10000 non-null  float64\n",
      " 13  Unnamed: 13                         0 non-null      float64\n",
      " 14  Unnamed: 14                         0 non-null      float64\n",
      "dtypes: float64(6), int64(1), object(8)\n",
      "memory usage: 1.1+ MB\n"
     ]
    },
    {
     "data": {
      "text/plain": [
       "((None,\n",
       "    Customer_ID  Age  Gender   Location                 Browsing_History  \\\n",
       "  0       C1000   28  Female    Chennai             ['Books', 'Fashion']   \n",
       "  1       C1001   27    Male      Delhi  ['Books', 'Fitness', 'Fashion']   \n",
       "  2       C1002   34   Other    Chennai                  ['Electronics']   \n",
       "  3       C1003   23    Male  Bangalore                   ['Home Decor']   \n",
       "  4       C1004   24   Other    Kolkata        ['Fashion', 'Home Decor']   \n",
       "  \n",
       "                                 Purchase_History    Customer_Segment  \\\n",
       "  0                        ['Biography', 'Jeans']         New Visitor   \n",
       "  1  ['Biography', 'Resistance Bands', 'T-shirt']  Occasional Shopper   \n",
       "  2                                ['Smartphone']  Occasional Shopper   \n",
       "  3                                  ['Wall Art']      Frequent Buyer   \n",
       "  4                             ['Shoes', 'Lamp']      Frequent Buyer   \n",
       "  \n",
       "     Avg_Order_Value Holiday  Season  Unnamed: 10  \n",
       "  0          4806.99      No  Winter          NaN  \n",
       "  1           795.03     Yes  Autumn          NaN  \n",
       "  2          1742.45     Yes  Summer          NaN  \n",
       "  3          2023.16      No  Autumn          NaN  \n",
       "  4           794.76      No  Winter          NaN  ,\n",
       "                  Age  Avg_Order_Value  Unnamed: 10\n",
       "  count  10000.000000     10000.000000          0.0\n",
       "  mean      39.156000      2752.037933          NaN\n",
       "  std       12.372759      1295.957573          NaN\n",
       "  min       18.000000       500.690000          NaN\n",
       "  25%       29.000000      1635.797500          NaN\n",
       "  50%       39.000000      2740.020000          NaN\n",
       "  75%       50.000000      3879.345000          NaN\n",
       "  max       60.000000      4999.310000          NaN),\n",
       " (None,\n",
       "    Product_ID     Category Subcategory  Price    Brand  \\\n",
       "  0      P2000      Fashion       Jeans   1713  Brand B   \n",
       "  1      P2001       Beauty    Lipstick   1232  Brand C   \n",
       "  2      P2002  Electronics      Laptop   4833  Brand B   \n",
       "  3      P2003        Books      Comics   4902  Brand D   \n",
       "  4      P2004   Home Decor    Cushions    856  Brand C   \n",
       "  \n",
       "     Average_Rating_of_Similar_Products  Product_Rating  \\\n",
       "  0                                 4.2             2.3   \n",
       "  1                                 4.7             2.1   \n",
       "  2                                 3.5             2.4   \n",
       "  3                                 3.4             4.2   \n",
       "  4                                 3.2             3.3   \n",
       "  \n",
       "     Customer_Review_Sentiment_Score Holiday  Season Geographical_Location  \\\n",
       "  0                             0.26      No  Summer                Canada   \n",
       "  1                             0.21     Yes  Winter                 India   \n",
       "  2                             0.74     Yes  Spring                Canada   \n",
       "  3                             0.80      No  Winter               Germany   \n",
       "  4                             0.08     Yes  Summer                   USA   \n",
       "  \n",
       "                           Similar_Product_List  Probability_of_Recommendation  \\\n",
       "  0                          ['Jeans', 'Shoes']                           0.91   \n",
       "  1     ['Moisturizer', 'Lipstick', 'Lipstick']                           0.26   \n",
       "  2  ['Headphones', 'Headphones', 'Smartphone']                           0.60   \n",
       "  3      ['Biography', 'Non-fiction', 'Comics']                           0.36   \n",
       "  4                                    ['Lamp']                           0.37   \n",
       "  \n",
       "     Unnamed: 13  Unnamed: 14  \n",
       "  0          NaN          NaN  \n",
       "  1          NaN          NaN  \n",
       "  2          NaN          NaN  \n",
       "  3          NaN          NaN  \n",
       "  4          NaN          NaN  ,\n",
       "               Price  Average_Rating_of_Similar_Products  Product_Rating  \\\n",
       "  count  10000.00000                         10000.00000    10000.000000   \n",
       "  mean    2552.36510                             3.51216        3.502610   \n",
       "  std     1413.52875                             0.87081        0.872801   \n",
       "  min      100.00000                             2.00000        2.000000   \n",
       "  25%     1325.00000                             2.80000        2.700000   \n",
       "  50%     2585.00000                             3.50000        3.500000   \n",
       "  75%     3755.00000                             4.30000        4.300000   \n",
       "  max     5000.00000                             5.00000        5.000000   \n",
       "  \n",
       "         Customer_Review_Sentiment_Score  Probability_of_Recommendation  \\\n",
       "  count                     10000.000000                   10000.000000   \n",
       "  mean                          0.498616                       0.551110   \n",
       "  std                           0.289370                       0.260091   \n",
       "  min                           0.000000                       0.100000   \n",
       "  25%                           0.250000                       0.330000   \n",
       "  50%                           0.490000                       0.550000   \n",
       "  75%                           0.750000                       0.780000   \n",
       "  max                           1.000000                       1.000000   \n",
       "  \n",
       "         Unnamed: 13  Unnamed: 14  \n",
       "  count          0.0          0.0  \n",
       "  mean           NaN          NaN  \n",
       "  std            NaN          NaN  \n",
       "  min            NaN          NaN  \n",
       "  25%            NaN          NaN  \n",
       "  50%            NaN          NaN  \n",
       "  75%            NaN          NaN  \n",
       "  max            NaN          NaN  ))"
      ]
     },
     "execution_count": 59,
     "metadata": {},
     "output_type": "execute_result"
    }
   ],
   "source": [
    "import pandas as pd\n",
    "\n",
    "# Load the datasets\n",
    "customer_data_path = \"../data/customer_data_collection.csv\"\n",
    "product_data_path = \"../data/product_recommendation_data.csv\"\n",
    "\n",
    "# Read the datasets\n",
    "customer_df = pd.read_csv(customer_data_path)\n",
    "product_df = pd.read_csv(product_data_path)\n",
    "\n",
    "# Display basic information about the datasets\n",
    "customer_info = customer_df.info(), customer_df.head(), customer_df.describe()\n",
    "product_info = product_df.info(), product_df.head(), product_df.describe()\n",
    "\n",
    "customer_info, product_info\n"
   ]
  },
  {
   "cell_type": "code",
   "execution_count": 60,
   "metadata": {},
   "outputs": [
    {
     "name": "stdout",
     "output_type": "stream",
     "text": [
      "<class 'pandas.core.frame.DataFrame'>\n",
      "RangeIndex: 10000 entries, 0 to 9999\n",
      "Data columns (total 10 columns):\n",
      " #   Column            Non-Null Count  Dtype  \n",
      "---  ------            --------------  -----  \n",
      " 0   Customer_ID       10000 non-null  object \n",
      " 1   Age               10000 non-null  int64  \n",
      " 2   Gender            10000 non-null  object \n",
      " 3   Location          10000 non-null  object \n",
      " 4   Browsing_History  10000 non-null  object \n",
      " 5   Purchase_History  10000 non-null  object \n",
      " 6   Customer_Segment  10000 non-null  object \n",
      " 7   Avg_Order_Value   10000 non-null  float64\n",
      " 8   Holiday           10000 non-null  object \n",
      " 9   Season            10000 non-null  object \n",
      "dtypes: float64(1), int64(1), object(8)\n",
      "memory usage: 781.4+ KB\n",
      "<class 'pandas.core.frame.DataFrame'>\n",
      "RangeIndex: 10000 entries, 0 to 9999\n",
      "Data columns (total 13 columns):\n",
      " #   Column                              Non-Null Count  Dtype  \n",
      "---  ------                              --------------  -----  \n",
      " 0   Product_ID                          10000 non-null  object \n",
      " 1   Category                            10000 non-null  object \n",
      " 2   Subcategory                         10000 non-null  object \n",
      " 3   Price                               10000 non-null  int64  \n",
      " 4   Brand                               10000 non-null  object \n",
      " 5   Average_Rating_of_Similar_Products  10000 non-null  float64\n",
      " 6   Product_Rating                      10000 non-null  float64\n",
      " 7   Customer_Review_Sentiment_Score     10000 non-null  float64\n",
      " 8   Holiday                             10000 non-null  object \n",
      " 9   Season                              10000 non-null  object \n",
      " 10  Geographical_Location               10000 non-null  object \n",
      " 11  Similar_Product_List                10000 non-null  object \n",
      " 12  Probability_of_Recommendation       10000 non-null  float64\n",
      "dtypes: float64(4), int64(1), object(8)\n",
      "memory usage: 1015.8+ KB\n"
     ]
    },
    {
     "data": {
      "text/plain": [
       "(None, None)"
      ]
     },
     "execution_count": 60,
     "metadata": {},
     "output_type": "execute_result"
    }
   ],
   "source": [
    "# Drop empty columns\n",
    "customer_df = customer_df.drop(columns=['Unnamed: 10'])\n",
    "product_df = product_df.drop(columns=['Unnamed: 13', 'Unnamed: 14'])\n",
    "\n",
    "# Convert list-like string columns into actual lists for better analysis\n",
    "import ast\n",
    "\n",
    "list_columns = ['Browsing_History', 'Purchase_History']\n",
    "for col in list_columns:\n",
    "    customer_df[col] = customer_df[col].apply(ast.literal_eval)\n",
    "\n",
    "# Display cleaned data information\n",
    "customer_df.info(), product_df.info()\n"
   ]
  },
  {
   "cell_type": "code",
   "execution_count": 61,
   "metadata": {},
   "outputs": [
    {
     "data": {
      "text/html": [
       "<div>\n",
       "<style scoped>\n",
       "    .dataframe tbody tr th:only-of-type {\n",
       "        vertical-align: middle;\n",
       "    }\n",
       "\n",
       "    .dataframe tbody tr th {\n",
       "        vertical-align: top;\n",
       "    }\n",
       "\n",
       "    .dataframe thead th {\n",
       "        text-align: right;\n",
       "    }\n",
       "</style>\n",
       "<table border=\"1\" class=\"dataframe\">\n",
       "  <thead>\n",
       "    <tr style=\"text-align: right;\">\n",
       "      <th></th>\n",
       "      <th>Customer_ID</th>\n",
       "      <th>Age</th>\n",
       "      <th>Gender</th>\n",
       "      <th>Location</th>\n",
       "      <th>Browsing_History</th>\n",
       "      <th>Purchase_History</th>\n",
       "      <th>Customer_Segment</th>\n",
       "      <th>Avg_Order_Value</th>\n",
       "      <th>Holiday</th>\n",
       "      <th>Season</th>\n",
       "    </tr>\n",
       "  </thead>\n",
       "  <tbody>\n",
       "    <tr>\n",
       "      <th>0</th>\n",
       "      <td>C1000</td>\n",
       "      <td>-0.901703</td>\n",
       "      <td>0</td>\n",
       "      <td>1</td>\n",
       "      <td>[Books, Fashion]</td>\n",
       "      <td>[Biography, Jeans]</td>\n",
       "      <td>New Visitor</td>\n",
       "      <td>1.585742</td>\n",
       "      <td>0</td>\n",
       "      <td>3</td>\n",
       "    </tr>\n",
       "    <tr>\n",
       "      <th>1</th>\n",
       "      <td>C1001</td>\n",
       "      <td>-0.982530</td>\n",
       "      <td>1</td>\n",
       "      <td>2</td>\n",
       "      <td>[Books, Fitness, Fashion]</td>\n",
       "      <td>[Biography, Resistance Bands, T-shirt]</td>\n",
       "      <td>Occasional Shopper</td>\n",
       "      <td>-1.510162</td>\n",
       "      <td>1</td>\n",
       "      <td>0</td>\n",
       "    </tr>\n",
       "    <tr>\n",
       "      <th>2</th>\n",
       "      <td>C1002</td>\n",
       "      <td>-0.416743</td>\n",
       "      <td>2</td>\n",
       "      <td>1</td>\n",
       "      <td>[Electronics]</td>\n",
       "      <td>[Smartphone]</td>\n",
       "      <td>Occasional Shopper</td>\n",
       "      <td>-0.779067</td>\n",
       "      <td>1</td>\n",
       "      <td>2</td>\n",
       "    </tr>\n",
       "    <tr>\n",
       "      <th>3</th>\n",
       "      <td>C1003</td>\n",
       "      <td>-1.305837</td>\n",
       "      <td>1</td>\n",
       "      <td>0</td>\n",
       "      <td>[Home Decor]</td>\n",
       "      <td>[Wall Art]</td>\n",
       "      <td>Frequent Buyer</td>\n",
       "      <td>-0.562452</td>\n",
       "      <td>0</td>\n",
       "      <td>0</td>\n",
       "    </tr>\n",
       "    <tr>\n",
       "      <th>4</th>\n",
       "      <td>C1004</td>\n",
       "      <td>-1.225010</td>\n",
       "      <td>2</td>\n",
       "      <td>3</td>\n",
       "      <td>[Fashion, Home Decor]</td>\n",
       "      <td>[Shoes, Lamp]</td>\n",
       "      <td>Frequent Buyer</td>\n",
       "      <td>-1.510370</td>\n",
       "      <td>0</td>\n",
       "      <td>3</td>\n",
       "    </tr>\n",
       "  </tbody>\n",
       "</table>\n",
       "</div>"
      ],
      "text/plain": [
       "  Customer_ID       Age  Gender  Location           Browsing_History  \\\n",
       "0       C1000 -0.901703       0         1           [Books, Fashion]   \n",
       "1       C1001 -0.982530       1         2  [Books, Fitness, Fashion]   \n",
       "2       C1002 -0.416743       2         1              [Electronics]   \n",
       "3       C1003 -1.305837       1         0               [Home Decor]   \n",
       "4       C1004 -1.225010       2         3      [Fashion, Home Decor]   \n",
       "\n",
       "                         Purchase_History    Customer_Segment  \\\n",
       "0                      [Biography, Jeans]         New Visitor   \n",
       "1  [Biography, Resistance Bands, T-shirt]  Occasional Shopper   \n",
       "2                            [Smartphone]  Occasional Shopper   \n",
       "3                              [Wall Art]      Frequent Buyer   \n",
       "4                           [Shoes, Lamp]      Frequent Buyer   \n",
       "\n",
       "   Avg_Order_Value  Holiday  Season  \n",
       "0         1.585742        0       3  \n",
       "1        -1.510162        1       0  \n",
       "2        -0.779067        1       2  \n",
       "3        -0.562452        0       0  \n",
       "4        -1.510370        0       3  "
      ]
     },
     "execution_count": 61,
     "metadata": {},
     "output_type": "execute_result"
    }
   ],
   "source": [
    "from sklearn.preprocessing import LabelEncoder, StandardScaler\n",
    "\n",
    "# Encode categorical columns\n",
    "categorical_columns = ['Gender', 'Location', 'Holiday', 'Season']\n",
    "label_encoders = {}\n",
    "\n",
    "for col in categorical_columns:\n",
    "    le = LabelEncoder()\n",
    "    customer_df[col] = le.fit_transform(customer_df[col])\n",
    "    label_encoders[col] = le  # Store encoders for reference\n",
    "\n",
    "# Normalize numerical features\n",
    "scaler = StandardScaler()\n",
    "customer_df[['Age', 'Avg_Order_Value']] = scaler.fit_transform(customer_df[['Age', 'Avg_Order_Value']])\n",
    "\n",
    "# Display processed data\n",
    "customer_df.head()\n"
   ]
  },
  {
   "cell_type": "markdown",
   "metadata": {},
   "source": [
    "# Extract Most Frequent Categories"
   ]
  },
  {
   "cell_type": "code",
   "execution_count": 62,
   "metadata": {},
   "outputs": [],
   "source": [
    "from collections import Counter\n",
    "\n",
    "def most_frequent_category(history_list):\n",
    "    if not history_list:\n",
    "        return \"Unknown\"\n",
    "    category_counts = Counter(history_list)\n",
    "    return category_counts.most_common(1)[0][0]\n",
    "\n",
    "customer_df['Top_Browsing_Category'] = customer_df['Browsing_History'].apply(most_frequent_category)\n",
    "customer_df['Top_Purchase_Category'] = customer_df['Purchase_History'].apply(most_frequent_category)\n"
   ]
  },
  {
   "cell_type": "markdown",
   "metadata": {},
   "source": [
    "# Encode These New Categorical Features"
   ]
  },
  {
   "cell_type": "code",
   "execution_count": 63,
   "metadata": {},
   "outputs": [],
   "source": [
    "from sklearn.preprocessing import LabelEncoder\n",
    "\n",
    "for col in ['Top_Browsing_Category', 'Top_Purchase_Category']:\n",
    "    le = LabelEncoder()\n",
    "    customer_df[col] = le.fit_transform(customer_df[col])\n"
   ]
  },
  {
   "cell_type": "markdown",
   "metadata": {},
   "source": [
    "# Drop the Original List-Based Columns"
   ]
  },
  {
   "cell_type": "code",
   "execution_count": 64,
   "metadata": {},
   "outputs": [],
   "source": [
    "customer_df = customer_df.drop(columns=['Browsing_History', 'Purchase_History'])\n"
   ]
  },
  {
   "cell_type": "markdown",
   "metadata": {},
   "source": [
    "# Steps to Find Optimal k for K-Means"
   ]
  },
  {
   "cell_type": "code",
   "execution_count": 65,
   "metadata": {},
   "outputs": [
    {
     "data": {
      "image/png": "[encoded data removed]",
      "text/plain": [
       "<Figure size 800x500 with 1 Axes>"
      ]
     },
     "metadata": {},
     "output_type": "display_data"
    }
   ],
   "source": [
    "import matplotlib.pyplot as plt\n",
    "from sklearn.cluster import KMeans\n",
    "\n",
    "# Select features for clustering\n",
    "features = ['Age', 'Gender', 'Location', 'Avg_Order_Value', 'Holiday', 'Season', 'Top_Browsing_Category', 'Top_Purchase_Category']\n",
    "\n",
    "# Elbow method to determine optimal k\n",
    "inertia = []\n",
    "K_range = range(1, 11)  # Testing k from 1 to 10\n",
    "\n",
    "for k in K_range:\n",
    "    kmeans = KMeans(n_clusters=k, random_state=42, n_init=10)\n",
    "    kmeans.fit(customer_df[features])\n",
    "    inertia.append(kmeans.inertia_)\n",
    "\n",
    "# Plot the elbow graph\n",
    "plt.figure(figsize=(8, 5))\n",
    "plt.plot(K_range, inertia, marker='o', linestyle='--')\n",
    "plt.xlabel('Number of Clusters (k)')\n",
    "plt.ylabel('Inertia')\n",
    "plt.title('Elbow Method for Optimal k')\n",
    "plt.show()\n"
   ]
  },
  {
   "cell_type": "code",
   "execution_count": 66,
   "metadata": {},
   "outputs": [
    {
     "name": "stdout",
     "output_type": "stream",
     "text": [
      "              Age    Gender  Location  Avg_Order_Value   Holiday    Season  \\\n",
      "Cluster                                                                      \n",
      "0        0.007013  1.013732  1.947523        -0.007081  0.504659  1.501226   \n",
      "1       -0.015827  1.018735  2.016862        -0.018876  0.496956  1.498829   \n",
      "2        0.008520  1.023873  2.014026         0.016198  0.504625  1.480454   \n",
      "3       -0.003661  1.008889  1.992323         0.000185  0.485657  1.464646   \n",
      "\n",
      "         Top_Browsing_Category  Top_Purchase_Category  \n",
      "Cluster                                                \n",
      "0                     0.595880              12.923492  \n",
      "1                     3.206557               1.993911  \n",
      "2                     3.378096              19.449120  \n",
      "3                     2.346263               7.538182  \n"
     ]
    }
   ],
   "source": [
    "# Set optimal number of clusters (replace k_optimal with the number you found)\n",
    "k_optimal = 4  # Example value, update this based on your elbow method\n",
    "\n",
    "# Drop existing 'Cluster' column if it exists\n",
    "if 'Cluster' in customer_df.columns:\n",
    "\tcustomer_df = customer_df.drop(columns=['Cluster'])\n",
    "\n",
    "# Train K-Means model\n",
    "kmeans = KMeans(n_clusters=k_optimal, random_state=42, n_init=10)\n",
    "customer_df['Cluster'] = kmeans.fit_predict(customer_df[features])\n",
    "\n",
    "# Analyze cluster characteristics\n",
    "cluster_summary = customer_df.groupby('Cluster').mean(numeric_only=True)\n",
    "\n",
    "# Display cluster summary\n",
    "print(cluster_summary)\n"
   ]
  },
  {
   "cell_type": "code",
   "execution_count": 67,
   "metadata": {},
   "outputs": [
    {
     "data": {
      "image/png": "[encoded data removed]",
      "text/plain": [
       "<Figure size 800x600 with 1 Axes>"
      ]
     },
     "metadata": {},
     "output_type": "display_data"
    }
   ],
   "source": [
    "from sklearn.decomposition import PCA\n",
    "import seaborn as sns\n",
    "\n",
    "# Reduce dimensionality to 2 components\n",
    "pca = PCA(n_components=2)\n",
    "customer_df['PCA1'], customer_df['PCA2'] = pca.fit_transform(customer_df[features])[:, 0], pca.fit_transform(customer_df[features])[:, 1]\n",
    "\n",
    "# Plot the clusters\n",
    "plt.figure(figsize=(8,6))\n",
    "sns.scatterplot(x='PCA1', y='PCA2', hue='Cluster', data=customer_df, palette='viridis')\n",
    "plt.title('Customer Segmentation with K-Means')\n",
    "plt.show()\n"
   ]
  },
  {
   "cell_type": "markdown",
   "metadata": {},
   "source": [
    "# 1. Understanding Customer Segments"
   ]
  },
  {
   "cell_type": "code",
   "execution_count": 68,
   "metadata": {},
   "outputs": [
    {
     "name": "stdout",
     "output_type": "stream",
     "text": [
      "              Age    Gender  Location  Avg_Order_Value   Holiday    Season  \\\n",
      "Cluster                                                                      \n",
      "0        0.007013  1.013732  1.947523        -0.007081  0.504659  1.501226   \n",
      "1       -0.015827  1.018735  2.016862        -0.018876  0.496956  1.498829   \n",
      "2        0.008520  1.023873  2.014026         0.016198  0.504625  1.480454   \n",
      "3       -0.003661  1.008889  1.992323         0.000185  0.485657  1.464646   \n",
      "\n",
      "         Top_Browsing_Category  Top_Purchase_Category      PCA1      PCA2  \n",
      "Cluster                                                                    \n",
      "0                     0.595880              12.923492  1.404716 -1.978772  \n",
      "1                     3.206557               1.993911 -9.416670  1.049509  \n",
      "2                     3.378096              19.449120  8.032310  0.551670  \n",
      "3                     2.346263               7.538182 -3.909453 -0.022074  \n"
     ]
    }
   ],
   "source": [
    "# Analyze customer segments\n",
    "cluster_summary = customer_df.groupby('Cluster').mean(numeric_only=True)\n",
    "print(cluster_summary)\n"
   ]
  },
  {
   "cell_type": "markdown",
   "metadata": {},
   "source": [
    "# 3. Using Clusters for Product Recommendations"
   ]
  },
  {
   "cell_type": "code",
   "execution_count": 69,
   "metadata": {},
   "outputs": [
    {
     "name": "stdout",
     "output_type": "stream",
     "text": [
      "Category  Beauty  Books  Electronics  Fashion  Fitness  Home Decor\n",
      "Cluster                                                           \n",
      "0            352    353          329      307      350         348\n",
      "1            369    407          345      335      345         334\n",
      "2            542    569          538      578      547         577\n",
      "3            405    418          411      400      415         426\n"
     ]
    }
   ],
   "source": [
    "# Merge customer clusters with product data\n",
    "customer_products = customer_df[['Cluster']].merge(product_df, left_index=True, right_index=True)\n",
    "\n",
    "# Find most purchased product categories per cluster\n",
    "top_products_per_cluster = customer_products.groupby('Cluster')['Category'].value_counts().unstack().fillna(0)\n",
    "\n",
    "# Display top products per cluster\n",
    "print(top_products_per_cluster)\n"
   ]
  },
  {
   "cell_type": "markdown",
   "metadata": {},
   "source": [
    "# Building a Product Recommendation System Based on Customer Segments"
   ]
  },
  {
   "cell_type": "markdown",
   "metadata": {},
   "source": [
    "# Step 1: Identify Top Products for Each Customer Segment"
   ]
  },
  {
   "cell_type": "code",
   "execution_count": 70,
   "metadata": {},
   "outputs": [
    {
     "name": "stdout",
     "output_type": "stream",
     "text": [
      "Category  Beauty  Books  Electronics  Fashion  Fitness  Home Decor\n",
      "Cluster                                                           \n",
      "0            352    353          329      307      350         348\n",
      "1            369    407          345      335      345         334\n",
      "2            542    569          538      578      547         577\n",
      "3            405    418          411      400      415         426\n"
     ]
    }
   ],
   "source": [
    "# Merge customer clusters with product data\n",
    "customer_products = customer_df[['Cluster']].merge(product_df, left_index=True, right_index=True)\n",
    "\n",
    "# Find most purchased product categories per cluster\n",
    "top_products_per_cluster = customer_products.groupby('Cluster')['Category'].value_counts().unstack().fillna(0)\n",
    "\n",
    "# Display top products per cluster\n",
    "print(top_products_per_cluster)\n"
   ]
  },
  {
   "cell_type": "markdown",
   "metadata": {},
   "source": [
    "# Step 2: Implement a Rule-Based Recommendation System"
   ]
  },
  {
   "cell_type": "code",
   "execution_count": 71,
   "metadata": {},
   "outputs": [
    {
     "name": "stdout",
     "output_type": "stream",
     "text": [
      "      Category Subcategory    Brand  Price  Product_Rating\n",
      "0      Fashion       Jeans  Brand B   1713             2.3\n",
      "1       Beauty    Lipstick  Brand C   1232             2.1\n",
      "2  Electronics      Laptop  Brand B   4833             2.4\n",
      "3        Books      Comics  Brand D   4902             4.2\n",
      "4   Home Decor    Cushions  Brand C    856             3.3\n"
     ]
    }
   ],
   "source": [
    "def recommend_products(customer_cluster, num_recommendations=5):\n",
    "    # Get top categories for this cluster\n",
    "    top_categories = top_products_per_cluster.loc[customer_cluster].sort_values(ascending=False)\n",
    "    \n",
    "    # Get product recommendations from these categories\n",
    "    recommended_products = product_df[product_df['Category'].isin(top_categories.index)].head(num_recommendations)\n",
    "    \n",
    "    return recommended_products[['Category', 'Subcategory', 'Brand', 'Price', 'Product_Rating']]\n",
    "\n",
    "# Example: Recommend products for customers in Cluster 1\n",
    "print(recommend_products(customer_cluster=1))\n"
   ]
  },
  {
   "cell_type": "markdown",
   "metadata": {},
   "source": [
    "# Building a Machine Learning-Based Product Recommendation System"
   ]
  },
  {
   "cell_type": "markdown",
   "metadata": {},
   "source": [
    "# Step 1: Choose the Recommendation Approach"
   ]
  },
  {
   "cell_type": "code",
   "execution_count": 72,
   "metadata": {},
   "outputs": [
    {
     "name": "stdout",
     "output_type": "stream",
     "text": [
      "      Category Subcategory    Brand  Price  Product_Rating\n",
      "0      Fashion       Jeans  Brand B   1713             2.3\n",
      "1       Beauty    Lipstick  Brand C   1232             2.1\n",
      "2  Electronics      Laptop  Brand B   4833             2.4\n",
      "3        Books      Comics  Brand D   4902             4.2\n",
      "4   Home Decor    Cushions  Brand C    856             3.3\n"
     ]
    }
   ],
   "source": [
    "def recommend_products(customer_cluster, num_recommendations=5):\n",
    "    # Get top categories for this cluster\n",
    "    top_categories = top_products_per_cluster.loc[customer_cluster].sort_values(ascending=False)\n",
    "    \n",
    "    # Get product recommendations from these categories\n",
    "    recommended_products = product_df[product_df['Category'].isin(top_categories.index)].head(num_recommendations)\n",
    "    \n",
    "    return recommended_products[['Category', 'Subcategory', 'Brand', 'Price', 'Product_Rating']]\n",
    "\n",
    "# Example: Recommend products for customers in Cluster 1\n",
    "print(recommend_products(customer_cluster=1))\n"
   ]
  },
  {
   "cell_type": "markdown",
   "metadata": {},
   "source": [
    "# Step 2: Prepare Data for Model Training"
   ]
  },
  {
   "cell_type": "code",
   "execution_count": 75,
   "metadata": {},
   "outputs": [
    {
     "name": "stdout",
     "output_type": "stream",
     "text": [
      "['P2035', 'P2067', 'P2090', 'P2115', 'P2131']\n"
     ]
    }
   ],
   "source": [
    "from sklearn.feature_extraction.text import TfidfVectorizer\n",
    "from sklearn.metrics.pairwise import cosine_similarity\n",
    "\n",
    "# Combine product features into a single text column\n",
    "product_df[\"combined_features\"] = product_df[\"Category\"] + \" \" + product_df[\"Subcategory\"] + \" \" + product_df[\"Brand\"]\n",
    "\n",
    "# Convert text to numerical vectors using TF-IDF\n",
    "vectorizer = TfidfVectorizer(stop_words=\"english\")\n",
    "product_vectors = vectorizer.fit_transform(product_df[\"combined_features\"])\n",
    "\n",
    "# Compute similarity between products\n",
    "product_similarity = cosine_similarity(product_vectors)\n",
    "\n",
    "# Function to recommend similar products\n",
    "def recommend_products_content_based(product_id, num_recommendations=5):\n",
    "    if product_id not in product_df[\"Product_ID\"].values:\n",
    "        return []\n",
    "    \n",
    "    idx = product_df[product_df[\"Product_ID\"] == product_id].index[0]\n",
    "    similar_products = sorted(enumerate(product_similarity[idx]), key=lambda x: x[1], reverse=True)[1:num_recommendations+1]\n",
    "    \n",
    "    return [product_df.iloc[i[0]][\"Product_ID\"] for i in similar_products]\n",
    "\n",
    "# Example usage\n",
    "print(recommend_products_content_based(product_id='P2027'))\n"
   ]
  },
  {
   "cell_type": "markdown",
   "metadata": {},
   "source": [
    "# Step 5: Build a Hybrid Recommendation Model"
   ]
  },
  {
   "cell_type": "code",
   "execution_count": null,
   "metadata": {},
   "outputs": [
    {
     "name": "stdout",
     "output_type": "stream",
     "text": [
      "['P2180', 'P2024', 'P2174', 'P2025', 'P2173']\n"
     ]
    }
   ],
   "source": [
    "def hybrid_recommend(customer_id, product_id, num_recommendations=5):\n",
    "    collab_recs = recommend_products_content_based(customer_id, num_recommendations)\n",
    "    content_recs = recommend_products_content_based(product_id, num_recommendations)\n",
    "\n",
    "    # Merge both recommendations\n",
    "    final_recs = list(set(collab_recs + content_recs))[:num_recommendations]\n",
    "\n",
    "    return final_recs\n",
    "\n",
    "# Example: Recommend products using hybrid model\n",
    "print(hybrid_recommend(customer_id='C1018y', product_id='P2024'))\n"
   ]
  },
  {
   "cell_type": "code",
   "execution_count": null,
   "metadata": {},
   "outputs": [],
   "source": []
  }
 ],
 "metadata": {
  "kernelspec": {
   "display_name": "base",
   "language": "python",
   "name": "python3"
  },
  "language_info": {
   "codemirror_mode": {
    "name": "ipython",
    "version": 3
   },
   "file_extension": ".py",
   "mimetype": "text/x-python",
   "name": "python",
   "nbconvert_exporter": "python",
   "pygments_lexer": "ipython3",
   "version": "3.12.4"
  }
 },
 "nbformat": 4,
 "nbformat_minor": 2
}
